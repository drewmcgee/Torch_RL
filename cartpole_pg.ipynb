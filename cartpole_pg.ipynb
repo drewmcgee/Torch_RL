{
 "cells": [
  {
   "cell_type": "code",
   "execution_count": 1,
   "id": "2e12bf79-4aca-40e0-9a2b-ca6f33c6c62f",
   "metadata": {},
   "outputs": [],
   "source": [
    "import gymnasium as gym\n",
    "import torch\n",
    "import torch.nn as nn\n",
    "import torch.optim as optim\n",
    "import numpy as np\n",
    "import random\n",
    "\n",
    "# Define the PGN Network\n",
    "class PGN(nn.Module):\n",
    "    def __init__(self):\n",
    "        super(PGN, self).__init__()\n",
    "        self.fc1 = nn.Linear(4, 24)  # CartPole state is 4-dimensional\n",
    "        self.fc2 = nn.Linear(24, 24)\n",
    "        self.fc3 = nn.Linear(24, 2)  # Two actions: push cart left or right\n",
    "\n",
    "    def forward(self, x):\n",
    "        x = torch.relu(self.fc1(x))\n",
    "        x = torch.relu(self.fc2(x))\n",
    "        x = torch.softmax(self.fc3(x), dim=1) # Need softmax for PG to output probabilities \n",
    "        \n",
    "        return x"
   ]
  },
  {
   "cell_type": "code",
   "execution_count": 6,
   "id": "49dd9e61-4119-467c-9ee9-cc1f5b03c07a",
   "metadata": {},
   "outputs": [
    {
     "name": "stdout",
     "output_type": "stream",
     "text": [
      "27\n",
      "31\n",
      "37\n",
      "28\n",
      "15\n",
      "20\n",
      "55\n",
      "40\n",
      "37\n",
      "29\n",
      "41\n",
      "32\n",
      "31\n",
      "58\n"
     ]
    },
    {
     "ename": "KeyboardInterrupt",
     "evalue": "",
     "output_type": "error",
     "traceback": [
      "\u001b[0;31m---------------------------------------------------------------------------\u001b[0m",
      "\u001b[0;31mKeyboardInterrupt\u001b[0m                         Traceback (most recent call last)",
      "Cell \u001b[0;32mIn[6], line 55\u001b[0m\n\u001b[1;32m     50\u001b[0m \u001b[38;5;66;03m# This line below is crucial need action to be same as one from step in episode (to boost or reduce its prob)\u001b[39;00m\n\u001b[1;32m     51\u001b[0m \u001b[38;5;66;03m# use target model so that action probs are same as at initial eval time! (nope just treat full episode as minibatch)\u001b[39;00m\n\u001b[1;32m     52\u001b[0m \u001b[38;5;66;03m# weird target model makes it much worse even with target_update = 1\u001b[39;00m\n\u001b[1;32m     53\u001b[0m action_probability \u001b[38;5;241m=\u001b[39m model(last_episode[\u001b[38;5;241m-\u001b[39mridx\u001b[38;5;241m-\u001b[39m\u001b[38;5;241m1\u001b[39m])[\u001b[38;5;241m0\u001b[39m][actions[\u001b[38;5;241m-\u001b[39mridx\u001b[38;5;241m-\u001b[39m\u001b[38;5;241m1\u001b[39m]]  \u001b[38;5;66;03m# should make this more readable\u001b[39;00m\n\u001b[0;32m---> 55\u001b[0m log_policy \u001b[38;5;241m=\u001b[39m \u001b[43mtorch\u001b[49m\u001b[38;5;241;43m.\u001b[39;49m\u001b[43mlog\u001b[49m\u001b[43m(\u001b[49m\u001b[43maction_probability\u001b[49m\u001b[43m)\u001b[49m \u001b[38;5;66;03m# Will always be negative \u001b[39;00m\n\u001b[1;32m     57\u001b[0m loss \u001b[38;5;241m=\u001b[39m \u001b[38;5;241m-\u001b[39m\u001b[38;5;241m1\u001b[39m \u001b[38;5;241m*\u001b[39m log_policy \u001b[38;5;241m*\u001b[39m rev_cumul_reward\n\u001b[1;32m     58\u001b[0m episode_loss \u001b[38;5;241m+\u001b[39m\u001b[38;5;241m=\u001b[39m loss\n",
      "\u001b[0;31mKeyboardInterrupt\u001b[0m: "
     ]
    }
   ],
   "source": [
    "# Initialize environment, model, and optimizer\n",
    "env = gym.make('CartPole-v1')\n",
    "model = PGN()\n",
    "learning_rate = 0.0001\n",
    "optimizer = optim.Adam(model.parameters(), lr = learning_rate)\n",
    "\n",
    "# Training parameters\n",
    "num_episodes = 10000\n",
    "gamma = 0.90 # Discount factor\n",
    "\n",
    "for episode in range(num_episodes):\n",
    "    state = env.reset()[0]\n",
    "    \n",
    "    last_episode = []\n",
    "    rewards = [] \n",
    "    actions = []\n",
    "    \n",
    "    # Simulate a full episode\n",
    "    for t in range(1, 10000):  \n",
    "        state_tensor = torch.from_numpy(state).float().unsqueeze(0)\n",
    "        last_episode.append(state_tensor)\n",
    "\n",
    "        with torch.no_grad():\n",
    "            # Select action from action probability dist. \n",
    "            action = torch.multinomial(model(state_tensor), 1).item()\n",
    "            actions.append(action)\n",
    "        \n",
    "        next_state, reward, terminated, truncated, info = env.step(action)\n",
    "        done = terminated or truncated\n",
    "        \n",
    "        if done:\n",
    "            reward = -5\n",
    "        \n",
    "        state = next_state\n",
    "\n",
    "        ############\n",
    "        rewards.append(reward)\n",
    "        ############\n",
    "\n",
    "        if done:\n",
    "            break\n",
    "            \n",
    "    # Train on past episode \n",
    "    rev_cumul_reward = 0\n",
    "    episode_loss = 0\n",
    "    for ridx, state in enumerate(reversed(last_episode)): # traverse list in reverse\n",
    "        rev_cumul_reward *= gamma\n",
    "        rev_cumul_reward += rewards[-ridx-1]\n",
    "\n",
    "        # This line below is crucial need action to be same as one from step in episode (to boost or reduce its prob)\n",
    "        # use target model so that action probs are same as at initial eval time! (nope just treat full episode as minibatch)\n",
    "        # weird target model makes it much worse even with target_update = 1\n",
    "        action_probability = model(last_episode[-ridx-1])[0][actions[-ridx-1]]  # should make this more readable\n",
    "\n",
    "        log_policy = torch.log(action_probability) # Will always be negative \n",
    "        \n",
    "        loss = -1 * log_policy * rev_cumul_reward\n",
    "        episode_loss += loss\n",
    "\n",
    "    episode_loss.backward()\n",
    "    optimizer.step()\n",
    "    episode_loss = 0\n",
    "\n",
    "    if episode % 50 == 0:\n",
    "        print(t)\n",
    "        \n",
    "        \n",
    "\n",
    "env.close()"
   ]
  },
  {
   "cell_type": "code",
   "execution_count": null,
   "id": "b279c225-bf58-4a16-8545-82b52b94025a",
   "metadata": {},
   "outputs": [],
   "source": []
  },
  {
   "cell_type": "code",
   "execution_count": null,
   "id": "85d4af0a-9901-40cf-9d0e-392575649e1f",
   "metadata": {},
   "outputs": [],
   "source": []
  },
  {
   "cell_type": "code",
   "execution_count": null,
   "id": "c50303e2-e704-46e4-8ec9-fab0705186a1",
   "metadata": {},
   "outputs": [],
   "source": []
  }
 ],
 "metadata": {
  "kernelspec": {
   "display_name": "Python 3 (ipykernel)",
   "language": "python",
   "name": "python3"
  },
  "language_info": {
   "codemirror_mode": {
    "name": "ipython",
    "version": 3
   },
   "file_extension": ".py",
   "mimetype": "text/x-python",
   "name": "python",
   "nbconvert_exporter": "python",
   "pygments_lexer": "ipython3",
   "version": "3.11.6"
  }
 },
 "nbformat": 4,
 "nbformat_minor": 5
}
