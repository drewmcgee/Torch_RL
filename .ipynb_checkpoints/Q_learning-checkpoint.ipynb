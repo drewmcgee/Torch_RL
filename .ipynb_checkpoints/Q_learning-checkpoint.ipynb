{
 "cells": [
  {
   "cell_type": "code",
   "execution_count": 4,
   "id": "f429ea2f",
   "metadata": {},
   "outputs": [],
   "source": [
    "import numpy as np"
   ]
  },
  {
   "cell_type": "code",
   "execution_count": 11,
   "id": "4b5ee14e",
   "metadata": {},
   "outputs": [],
   "source": [
    "def update_state(state, action):\n",
    "    if state == 0 and action == \"left\":\n",
    "        pass\n",
    "    elif state > 0 and action == \"left\":\n",
    "        state = state - 1\n",
    "    elif state < 3 and action == \"right\":\n",
    "        state = state + 1\n",
    "    return state"
   ]
  },
  {
   "cell_type": "code",
   "execution_count": 12,
   "id": "f0259d77",
   "metadata": {},
   "outputs": [],
   "source": [
    "def get_action(state, QTable, epsilon=0.01):\n",
    "    Q_state = QTable[state]\n",
    "    #print(Q_state)\n",
    "    P_left = (Q_state[0] + epsilon) / (sum(Q_state) + 2*epsilon)\n",
    "    #print(P_left)\n",
    "    seed = np.random.rand()\n",
    "    #print(seed)\n",
    "    \n",
    "    if seed < P_left:\n",
    "        return \"left\"\n",
    "    else:\n",
    "        return \"right\"\n",
    "    "
   ]
  },
  {
   "cell_type": "code",
   "execution_count": 14,
   "id": "7739c310",
   "metadata": {},
   "outputs": [],
   "source": [
    "def updateQ(state,action,QTable,rewards, learn_rate = 0.1, discount_rate = 0.85):\n",
    "\n",
    "    if action == \"left\":\n",
    "        action_idx = 0\n",
    "    else:\n",
    "        action_idx = 1\n",
    "    \n",
    "    Q_s_a = QTable[state][action_idx]\n",
    "    \n",
    "    next_state = update_state(state, action)\n",
    "    \n",
    "    max_Q_next = max(QTable[next_state])\n",
    "    \n",
    "    R_s_a = rewards[next_state]\n",
    "    \n",
    "    # SIDE EFFECT — Updates the Q Table\n",
    "    QTable[state][action_idx] = Q_s_a + learn_rate * (R_s_a + (discount_rate * max_Q_next) - Q_s_a)\n",
    "    \n",
    "    return next_state"
   ]
  },
  {
   "cell_type": "code",
   "execution_count": 33,
   "id": "5b9ee992",
   "metadata": {},
   "outputs": [],
   "source": [
    "state = 0\n",
    "QTable = [[0,0],[0,0],[0,0],[0,0]]\n",
    "rewards = [0,0,0,100]\n",
    "\n",
    "for episode in range(10000):\n",
    "    for step in range(50):\n",
    "        action = get_action(state, QTable)\n",
    "        state = updateQ(state,action,QTable,rewards)\n",
    "        if state == 3:\n",
    "            state = 0 \n",
    "            break    "
   ]
  },
  {
   "cell_type": "code",
   "execution_count": 34,
   "id": "dc95ea59",
   "metadata": {},
   "outputs": [
    {
     "data": {
      "text/plain": [
       "[[61.412499999999824, 72.24999999999983],\n",
       " [61.412499999999824, 84.99999999999989],\n",
       " [72.24999999999983, 99.99999999999994],\n",
       " [0, 0]]"
      ]
     },
     "execution_count": 34,
     "metadata": {},
     "output_type": "execute_result"
    }
   ],
   "source": [
    "QTable"
   ]
  },
  {
   "cell_type": "code",
   "execution_count": null,
   "id": "9ba51bf0",
   "metadata": {},
   "outputs": [],
   "source": []
  }
 ],
 "metadata": {
  "kernelspec": {
   "display_name": "Python 3 (ipykernel)",
   "language": "python",
   "name": "python3"
  },
  "language_info": {
   "codemirror_mode": {
    "name": "ipython",
    "version": 3
   },
   "file_extension": ".py",
   "mimetype": "text/x-python",
   "name": "python",
   "nbconvert_exporter": "python",
   "pygments_lexer": "ipython3",
   "version": "3.9.6"
  }
 },
 "nbformat": 4,
 "nbformat_minor": 5
}
